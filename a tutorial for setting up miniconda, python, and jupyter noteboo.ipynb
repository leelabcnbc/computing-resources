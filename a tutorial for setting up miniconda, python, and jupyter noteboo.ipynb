{
 "cells": [
  {
   "attachments": {},
   "cell_type": "markdown",
   "metadata": {},
   "source": [
    "# A tutorial for setting up miniconda, python, and jupyter notebook.\n",
    "\n",
    "This document is a tutorial to set up miniconda, python and jupyter notebook on the psych-o cluster. Set up a psych-o cluster account with David Pane and read up the http://twiki.cnbc.cmu.edu/bin/view/CnbcUsers/WebHome to get an understanding of the cluster architecture and its working. You can use a SSH to access and use the cluster.\n",
    "\n",
    "* **To request a job** \n",
    "    srun -N1 --cpus-per-task=24 --gres=gpu:4 --mem=0 --time=4-0:00:00 --pty bash\n",
    "\n",
    "* **Clone the DevOps respository to your home directory**\n",
    "\n",
    "* **Install miniconda**\n",
    "    ~/DevOps/shell_scripts/conda/install_miniconda.sh ~/miniconda2\n",
    "    After that, you should add a line like export PATH=${HOME}/miniconda2/bin:$PATH (depending on INSTALL_PATH) into    files like .bashrc (if you are on CNBC cluster), or .profile (if on Ubuntu 14.04), so that conda related commands are always available. \n",
    "\n",
    "* **Install python and related packages such**\n",
    "    * numpy\n",
    "    * scipy\n",
    "    * matplotlib\n",
    "    * pandas\n",
    "    * nose\n",
    "    * notebook\n",
    "    * h5py\n",
    "    * openblas\n",
    "    *git # yes because the old git on cluster doesn't support my .gitignore files.\n",
    "    \n",
    "    ~/DevOps/shell_scripts/conda/envs/default.sh\n",
    "\n",
    "* **create a default-3 environment called pytorch, and install PyTorch, as well as torchvision, and sklearn, joblib, etc.**\n",
    "    * ~/DevOps/shell_scripts/conda/envs/default-3.sh pytorch  \n",
    "    * . activate pytorch \n",
    "    * pip install http://download.pytorch.org/whl/cu80/torch-0.1.12.post2-cp36-cp36m-linux_x86_64.whl \n",
    "    * conda install -c conda-forge --no-update-dependencies scikit-learn joblib scikit-image\n",
    "    \n",
    "* **Each time before you use**\n",
    "    * if using PyTorch, run . activate pytorch\n",
    "    * for any, run . setup_env_variables.sh\n",
    "    \n",
    "* **To open jupyter notebook:**\n",
    "    * Request job resources\n",
    "    * type tmux to open a new session\n",
    "    * Press ctrl + b gap c to create a new session\n",
    "    * Press ctrl + b gap <session number> to toggle between the sessions\n",
    "    * Press ctrl + b gap x to close a session\n",
    "    * Connect the computer node to the head node by entering the following command in one session\n",
    "    ~/DevOps/connection_scripts/slurm_create_one_port_mapping.sh\n",
    "    * Run this on local server (your laptop)\n",
    "    ssh -N -L 8894:localhost:8894 xingyul2@psych-o.hpc1.cs.cmu.edu\n",
    "    * come back into the ssh and go into another session, activate environment, and open jupyter notebook \n",
    "    jupyter notebook --no-browser --port=8899\n",
    "    * Open the link http://localhost:8894 to access the jupyter notebook\n",
    "    \n",
    "\n",
    "\n",
    "\n"
   ]
  }
 ],
 "metadata": {
  "kernelspec": {
   "display_name": "Python 2",
   "language": "python",
   "name": "python2"
  },
  "language_info": {
   "codemirror_mode": {
    "name": "ipython",
    "version": 2
   },
   "file_extension": ".py",
   "mimetype": "text/x-python",
   "name": "python",
   "nbconvert_exporter": "python",
   "pygments_lexer": "ipython2",
   "version": "2.7.13"
  }
 },
 "nbformat": 4,
 "nbformat_minor": 2
}
